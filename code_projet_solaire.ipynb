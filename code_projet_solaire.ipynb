{
 "cells": [
  {
   "cell_type": "code",
   "execution_count": 310,
   "metadata": {
    "colab": {},
    "colab_type": "code",
    "id": "1b-DDlXJMsM1"
   },
   "outputs": [],
   "source": [
    "import os\n",
    "import numpy as np\n",
    "import matplotlib.pyplot as plt\n",
    "import seaborn as sns\n",
    "import pandas as pd\n",
    "import glob\n",
    "import tensorflow as tf\n",
    "from PIL import Image\n",
    "from keras.models import Sequential\n",
    "from keras.layers import Dense,Input\n",
    "from keras.layers import LSTM\n",
    "from keras.layers import Bidirectional\n",
    "from keras.layers import Dropout\n",
    "from keras.layers import Conv2D\n",
    "from keras.layers import Conv1D\n",
    "from keras.layers import MaxPooling3D\n",
    "from keras.layers import MaxPooling2D\n",
    "from keras.layers import Flatten\n",
    "from keras.layers import TimeDistributed\n",
    "from keras.layers import Lambda\n",
    "from keras.layers import Reshape\n",
    "from keras.layers import BatchNormalization\n",
    "from keras.layers import GRU\n",
    "from keras.models import Model\n",
    "from keras.layers import AveragePooling2D\n",
    "from keras.optimizers import Nadam,Adam\n",
    "from sklearn.preprocessing import MinMaxScaler\n",
    "from sklearn.metrics import mean_squared_error\n",
    "from sklearn.model_selection import train_test_split\n",
    "import keras.optimizers as ops\n",
    "from keras.callbacks import EarlyStopping"
   ]
  },
  {
   "cell_type": "code",
   "execution_count": 316,
   "metadata": {
    "colab": {},
    "colab_type": "code",
    "id": "Xrkuq4keSKLa"
   },
   "outputs": [],
   "source": [
    "#creation de la fonction qui va traiter les donnees\n",
    "def reg_data(df):\n",
    "    df = df.drop(df.index[[0,1,2]])\n",
    "    df = df.drop('MW', axis=1)\n",
    "    df.columns = ['Date', 'From', 'to', 'MW']\n",
    "    \n",
    "    dates = df['Date'].tolist()\n",
    "\n",
    "    days = []\n",
    "    months = []\n",
    "    years = []\n",
    "    for date in dates:\n",
    "        days.append(date.split('.')[0])\n",
    "        months.append(date.split('.')[1])\n",
    "        years.append(date.split('.')[2])\n",
    "\n",
    "    df['Day'] = days\n",
    "    df['Month'] = months\n",
    "    df['Year'] = years\n",
    "    \n",
    "    def fixMW(cols):\n",
    "        TT = cols\n",
    "        TT = TT.replace('.','')\n",
    "        TT = TT.replace(',','.')\n",
    "        return TT\n",
    "\n",
    "    df['MW'] = df['MW'].apply(fixMW).astype(float)\n",
    "    df['Day'] = df['Day'].astype(int)\n",
    "    df['Month'] = df['Month'].astype(int)\n",
    "    df['Year'] = df['Year'].astype(int)\n",
    "    \n",
    "    df = df.groupby(['Day','Month','Year'])['MW'].sum()\n",
    "    df = pd.DataFrame(df)\n",
    "    df['Month'] = df.index.get_level_values('Month') \n",
    "    df['Day'] = df.index.get_level_values('Day') \n",
    "    df['Year'] = df.index.get_level_values('Year') \n",
    "    df.reset_index(drop=True, inplace=True)\n",
    "    return df\n",
    "  \n",
    "#appel de la fonction reg_data\n",
    "\n",
    "\n",
    "Data_10 = pd.read_csv('https://ws.50hertz.com/web02/api/PhotovoltaicActual/DownloadFile?fileName=2010.csv',sep=';')\n",
    "Data_10 = reg_data(Data_10)\n",
    "\n",
    "Data_11 = pd.read_csv('https://ws.50hertz.com/web02/api/PhotovoltaicActual/DownloadFile?fileName=2011.csv',sep=';')\n",
    "Data_11 = reg_data(Data_11)\n",
    "\n",
    "Data_12 = pd.read_csv('https://ws.50hertz.com/web02/api/PhotovoltaicActual/DownloadFile?fileName=2012.csv',sep=';')\n",
    "Data_12 = reg_data(Data_12)\n",
    "\n",
    "Data_13 = pd.read_csv('https://ws.50hertz.com/web02/api/PhotovoltaicActual/DownloadFile?fileName=2013.csv',sep=';')\n",
    "Data_13 = reg_data(Data_13)\n",
    "\n",
    "Data_14 = pd.read_csv('https://ws.50hertz.com/web02/api/PhotovoltaicActual/DownloadFile?fileName=2014.csv',sep=';')\n",
    "Data_14 = reg_data(Data_14)\n",
    "Data_15 = pd.read_csv('https://ws.50hertz.com/web02/api/PhotovoltaicActual/DownloadFile?fileName=2015.csv',sep=';')\n",
    "Data_15 = reg_data(Data_15)\n",
    "\n",
    "Data_16 = pd.read_csv('https://ws.50hertz.com/web02/api/PhotovoltaicActual/DownloadFile?fileName=2016.csv',sep=';')\n",
    "Data_16 = reg_data(Data_16)\n",
    "\n",
    "Data_17 = pd.read_csv('https://ws.50hertz.com/web02/api/PhotovoltaicActual/DownloadFile?fileName=2017.csv',sep=';')\n",
    "Data_17 = reg_data(Data_17)\n",
    "Data_18 = pd.read_csv('https://ws.50hertz.com/web02/api/PhotovoltaicActual/DownloadFile?fileName=2018.csv',sep=';')\n",
    "Data_18 = reg_data(Data_18)\n",
    "Data_19 = pd.read_csv('https://ws.50hertz.com/web02/api/PhotovoltaicActual/DownloadFile?fileName=2019.csv',sep=';')\n",
    "Data_19 = reg_data(Data_19)\n",
    "\n",
    "\n",
    "#concatener tout les donnees dans une seule DataFrame\n",
    "DataFrame = pd.concat([ Data_10, Data_11, Data_12, Data_13,Data_14, Data_15, Data_16, Data_17, Data_18, Data_19], ignore_index=True)\n"
   ]
  },
  {
   "cell_type": "code",
   "execution_count": 317,
   "metadata": {
    "colab": {
     "base_uri": "https://localhost:8080/",
     "height": 204
    },
    "colab_type": "code",
    "executionInfo": {
     "elapsed": 1060,
     "status": "ok",
     "timestamp": 1561855375239,
     "user": {
      "displayName": "said boujerfaoui",
      "photoUrl": "https://lh3.googleusercontent.com/-oQRYciqKOe0/AAAAAAAAAAI/AAAAAAAAAAc/F2-r3EnsbcE/s64/photo.jpg",
      "userId": "03168714931645234698"
     },
     "user_tz": -60
    },
    "id": "AF5uIxxOyzdl",
    "outputId": "ca253a3f-abdc-4934-fb39-6e965caa32bd"
   },
   "outputs": [
    {
     "data": {
      "text/html": [
       "<div>\n",
       "<style scoped>\n",
       "    .dataframe tbody tr th:only-of-type {\n",
       "        vertical-align: middle;\n",
       "    }\n",
       "\n",
       "    .dataframe tbody tr th {\n",
       "        vertical-align: top;\n",
       "    }\n",
       "\n",
       "    .dataframe thead th {\n",
       "        text-align: right;\n",
       "    }\n",
       "</style>\n",
       "<table border=\"1\" class=\"dataframe\">\n",
       "  <thead>\n",
       "    <tr style=\"text-align: right;\">\n",
       "      <th></th>\n",
       "      <th>MW</th>\n",
       "      <th>Month</th>\n",
       "      <th>Day</th>\n",
       "      <th>Year</th>\n",
       "    </tr>\n",
       "  </thead>\n",
       "  <tbody>\n",
       "    <tr>\n",
       "      <th>0</th>\n",
       "      <td>332.0</td>\n",
       "      <td>1</td>\n",
       "      <td>1</td>\n",
       "      <td>2010</td>\n",
       "    </tr>\n",
       "    <tr>\n",
       "      <th>1</th>\n",
       "      <td>1898.0</td>\n",
       "      <td>2</td>\n",
       "      <td>1</td>\n",
       "      <td>2010</td>\n",
       "    </tr>\n",
       "    <tr>\n",
       "      <th>2</th>\n",
       "      <td>2764.0</td>\n",
       "      <td>3</td>\n",
       "      <td>1</td>\n",
       "      <td>2010</td>\n",
       "    </tr>\n",
       "    <tr>\n",
       "      <th>3</th>\n",
       "      <td>12736.0</td>\n",
       "      <td>4</td>\n",
       "      <td>1</td>\n",
       "      <td>2010</td>\n",
       "    </tr>\n",
       "    <tr>\n",
       "      <th>4</th>\n",
       "      <td>8870.0</td>\n",
       "      <td>5</td>\n",
       "      <td>1</td>\n",
       "      <td>2010</td>\n",
       "    </tr>\n",
       "  </tbody>\n",
       "</table>\n",
       "</div>"
      ],
      "text/plain": [
       "        MW  Month  Day  Year\n",
       "0    332.0      1    1  2010\n",
       "1   1898.0      2    1  2010\n",
       "2   2764.0      3    1  2010\n",
       "3  12736.0      4    1  2010\n",
       "4   8870.0      5    1  2010"
      ]
     },
     "execution_count": 317,
     "metadata": {},
     "output_type": "execute_result"
    }
   ],
   "source": [
    "DataFrame.head()"
   ]
  },
  {
   "cell_type": "code",
   "execution_count": 318,
   "metadata": {
    "colab": {},
    "colab_type": "code",
    "id": "eN2TP9EblSAU"
   },
   "outputs": [],
   "source": [
    "#copier les donnees pour les conserver et travailler seulement avec la copie\n",
    "model_data = DataFrame"
   ]
  },
  {
   "cell_type": "code",
   "execution_count": 319,
   "metadata": {
    "colab": {
     "base_uri": "https://localhost:8080/",
     "height": 68
    },
    "colab_type": "code",
    "executionInfo": {
     "elapsed": 604,
     "status": "ok",
     "timestamp": 1561857932172,
     "user": {
      "displayName": "said boujerfaoui",
      "photoUrl": "https://lh3.googleusercontent.com/-oQRYciqKOe0/AAAAAAAAAAI/AAAAAAAAAAc/F2-r3EnsbcE/s64/photo.jpg",
      "userId": "03168714931645234698"
     },
     "user_tz": -60
    },
    "id": "VVn-NhLil-2y",
    "outputId": "31df2f80-0fe1-4622-f05d-6c2c48b2a7b2"
   },
   "outputs": [
    {
     "name": "stdout",
     "output_type": "stream",
     "text": [
      "3652\n",
      "2739\n",
      "913\n"
     ]
    }
   ],
   "source": [
    "#standarization des donnees\n",
    "scaler = MinMaxScaler(feature_range=(0, 1))\n",
    "model_data = scaler.fit_transform(model_data)\n",
    "\n",
    "#creer une fonction qui va faire la fraction des donnees en Data_train and DataTest\n",
    "def split_data(df):\n",
    "    train_size = int(len(df) * 0.75)\n",
    "    test_size = len(df) - train_size\n",
    "    train, test = df[0:train_size,:], df[train_size:len(df),:]\n",
    "    return train, test\n",
    "\n",
    "#appel de la fonction \"split data\"\n",
    "train, test = split_data(model_data)\n",
    "print(len(model_data))\n",
    "print(len(train))\n",
    "print(len(test))"
   ]
  },
  {
   "cell_type": "code",
   "execution_count": 320,
   "metadata": {
    "colab": {
     "base_uri": "https://localhost:8080/",
     "height": 85
    },
    "colab_type": "code",
    "executionInfo": {
     "elapsed": 581,
     "status": "ok",
     "timestamp": 1561857934392,
     "user": {
      "displayName": "said boujerfaoui",
      "photoUrl": "https://lh3.googleusercontent.com/-oQRYciqKOe0/AAAAAAAAAAI/AAAAAAAAAAc/F2-r3EnsbcE/s64/photo.jpg",
      "userId": "03168714931645234698"
     },
     "user_tz": -60
    },
    "id": "ZF5tRNg1lX7X",
    "outputId": "bfe1e365-4e95-4be6-a46b-728f20860b04"
   },
   "outputs": [
    {
     "name": "stdout",
     "output_type": "stream",
     "text": [
      "898\n",
      "898\n",
      "2724\n",
      "2724\n"
     ]
    }
   ],
   "source": [
    "#creation de lafonction qui va fractionner les donnees Xtrain and Ytrain puis Xtest and Ytest\n",
    "def Split_weekly(df, look_back=14):\n",
    "\tdataX, dataY = [], []\n",
    "\tfor i in range(len(df)-look_back-1):\n",
    "\t\ta = df[i:(i+look_back), 0]\n",
    "\t\tdataX.append(a)\n",
    "\t\tdataY.append(df[i + look_back, 0])\n",
    "\treturn np.array(dataX), np.array(dataY)\n",
    "\n",
    "#Appel de la fonction Split_weekly\n",
    "Xtrain, Ytrain = Split_weekly(train)\n",
    "Xtest, Ytest = Split_weekly(test)\n",
    "\n",
    "print(len(Xtest))\n",
    "print(len(Ytest))\n",
    "\n",
    "print(len(Xtrain))\n",
    "print(len(Ytrain))"
   ]
  },
  {
   "cell_type": "code",
   "execution_count": 321,
   "metadata": {},
   "outputs": [],
   "source": [
    "Xtrain = Xtrain.reshape(Xtrain.shape[0], Xtrain.shape[1], 1)\n",
    "Xtest = Xtest.reshape(Xtest.shape[0], Xtest.shape[1], 1)"
   ]
  },
  {
   "cell_type": "code",
   "execution_count": 323,
   "metadata": {
    "colab": {
     "base_uri": "https://localhost:8080/",
     "height": 1000
    },
    "colab_type": "code",
    "executionInfo": {
     "elapsed": 136514,
     "status": "ok",
     "timestamp": 1561858074400,
     "user": {
      "displayName": "said boujerfaoui",
      "photoUrl": "https://lh3.googleusercontent.com/-oQRYciqKOe0/AAAAAAAAAAI/AAAAAAAAAAc/F2-r3EnsbcE/s64/photo.jpg",
      "userId": "03168714931645234698"
     },
     "user_tz": -60
    },
    "id": "ODA67-SuoBJA",
    "outputId": "b72051e1-8210-4dfa-d58c-bbf87ff604c6"
   },
   "outputs": [
    {
     "name": "stdout",
     "output_type": "stream",
     "text": [
      "(898, 14, 1)\n",
      "(2724, 14, 1)\n",
      "Epoch 1/50\n",
      "137/137 [==============================] - 24s 49ms/step - loss: 0.0200 - val_loss: 0.0231\n",
      "Epoch 2/50\n",
      "137/137 [==============================] - 4s 26ms/step - loss: 0.0107 - val_loss: 0.0224\n",
      "Epoch 3/50\n",
      "137/137 [==============================] - 4s 26ms/step - loss: 0.0106 - val_loss: 0.0192\n",
      "Epoch 4/50\n",
      "137/137 [==============================] - 4s 31ms/step - loss: 0.0095 - val_loss: 0.0190\n",
      "Epoch 5/50\n",
      "137/137 [==============================] - 4s 27ms/step - loss: 0.0097 - val_loss: 0.0195\n",
      "Epoch 6/50\n",
      "137/137 [==============================] - 4s 28ms/step - loss: 0.0092 - val_loss: 0.0184\n",
      "Epoch 7/50\n",
      "137/137 [==============================] - 4s 28ms/step - loss: 0.0091 - val_loss: 0.0186\n",
      "Epoch 8/50\n",
      "137/137 [==============================] - 4s 26ms/step - loss: 0.0091 - val_loss: 0.0183\n",
      "Epoch 9/50\n",
      "137/137 [==============================] - 4s 30ms/step - loss: 0.0088 - val_loss: 0.0196\n",
      "Epoch 10/50\n",
      "137/137 [==============================] - 4s 28ms/step - loss: 0.0089 - val_loss: 0.0180\n",
      "Epoch 11/50\n",
      "137/137 [==============================] - 4s 27ms/step - loss: 0.0085 - val_loss: 0.0189\n",
      "Epoch 12/50\n",
      "137/137 [==============================] - 4s 29ms/step - loss: 0.0085 - val_loss: 0.0183\n",
      "Epoch 13/50\n",
      "137/137 [==============================] - 4s 29ms/step - loss: 0.0086 - val_loss: 0.0181\n",
      "Epoch 14/50\n",
      "137/137 [==============================] - 5s 34ms/step - loss: 0.0083 - val_loss: 0.0179\n",
      "Epoch 15/50\n",
      "137/137 [==============================] - 4s 29ms/step - loss: 0.0085 - val_loss: 0.0179\n",
      "Epoch 16/50\n",
      "137/137 [==============================] - 4s 28ms/step - loss: 0.0082 - val_loss: 0.0178\n",
      "Epoch 17/50\n",
      "137/137 [==============================] - 4s 29ms/step - loss: 0.0086 - val_loss: 0.0181\n",
      "Epoch 18/50\n",
      "137/137 [==============================] - 4s 30ms/step - loss: 0.0084 - val_loss: 0.0181\n",
      "Epoch 19/50\n",
      "137/137 [==============================] - 4s 28ms/step - loss: 0.0081 - val_loss: 0.0188\n",
      "Epoch 20/50\n",
      "137/137 [==============================] - 4s 28ms/step - loss: 0.0081 - val_loss: 0.0180\n",
      "Epoch 21/50\n",
      "137/137 [==============================] - 4s 30ms/step - loss: 0.0082 - val_loss: 0.0186\n",
      "Epoch 22/50\n",
      "137/137 [==============================] - 4s 29ms/step - loss: 0.0082 - val_loss: 0.0176\n",
      "Epoch 23/50\n",
      "137/137 [==============================] - 4s 32ms/step - loss: 0.0082 - val_loss: 0.0181\n",
      "Epoch 24/50\n",
      "137/137 [==============================] - 4s 29ms/step - loss: 0.0081 - val_loss: 0.0181\n",
      "Epoch 25/50\n",
      "137/137 [==============================] - 4s 30ms/step - loss: 0.0082 - val_loss: 0.0183\n",
      "Epoch 26/50\n",
      "137/137 [==============================] - 4s 29ms/step - loss: 0.0081 - val_loss: 0.0178\n",
      "Epoch 27/50\n",
      "137/137 [==============================] - 5s 33ms/step - loss: 0.0080 - val_loss: 0.0177\n",
      "Epoch 28/50\n",
      "137/137 [==============================] - 4s 28ms/step - loss: 0.0080 - val_loss: 0.0186\n",
      "Epoch 29/50\n",
      "137/137 [==============================] - 4s 28ms/step - loss: 0.0081 - val_loss: 0.0177\n",
      "Epoch 30/50\n",
      "137/137 [==============================] - 4s 29ms/step - loss: 0.0081 - val_loss: 0.0176\n",
      "Epoch 31/50\n",
      "137/137 [==============================] - 4s 32ms/step - loss: 0.0079 - val_loss: 0.0183\n",
      "Epoch 32/50\n",
      "137/137 [==============================] - 4s 28ms/step - loss: 0.0080 - val_loss: 0.0175\n",
      "Epoch 33/50\n",
      "137/137 [==============================] - 4s 29ms/step - loss: 0.0080 - val_loss: 0.0183\n",
      "Epoch 34/50\n",
      "137/137 [==============================] - 4s 29ms/step - loss: 0.0079 - val_loss: 0.0176\n",
      "Epoch 35/50\n",
      "137/137 [==============================] - 5s 33ms/step - loss: 0.0079 - val_loss: 0.0175\n",
      "Epoch 36/50\n",
      "137/137 [==============================] - 4s 29ms/step - loss: 0.0081 - val_loss: 0.0176\n",
      "Epoch 37/50\n",
      "137/137 [==============================] - 4s 30ms/step - loss: 0.0079 - val_loss: 0.0175\n",
      "Epoch 38/50\n",
      "137/137 [==============================] - 4s 30ms/step - loss: 0.0080 - val_loss: 0.0177\n",
      "Epoch 39/50\n",
      "137/137 [==============================] - 4s 31ms/step - loss: 0.0080 - val_loss: 0.0183\n",
      "Epoch 40/50\n",
      "137/137 [==============================] - 4s 30ms/step - loss: 0.0080 - val_loss: 0.0177\n",
      "Epoch 41/50\n",
      "137/137 [==============================] - 4s 28ms/step - loss: 0.0079 - val_loss: 0.0183\n",
      "Epoch 42/50\n",
      "137/137 [==============================] - 4s 29ms/step - loss: 0.0080 - val_loss: 0.0186\n",
      "Epoch 43/50\n",
      "137/137 [==============================] - 4s 31ms/step - loss: 0.0081 - val_loss: 0.0203\n",
      "Epoch 44/50\n",
      "137/137 [==============================] - 4s 29ms/step - loss: 0.0080 - val_loss: 0.0182\n",
      "Epoch 45/50\n",
      "137/137 [==============================] - 4s 29ms/step - loss: 0.0078 - val_loss: 0.0185\n",
      "Epoch 46/50\n",
      "137/137 [==============================] - 4s 29ms/step - loss: 0.0081 - val_loss: 0.0181\n",
      "Epoch 47/50\n",
      "137/137 [==============================] - 4s 32ms/step - loss: 0.0081 - val_loss: 0.0184\n",
      "Epoch 48/50\n",
      "137/137 [==============================] - 4s 31ms/step - loss: 0.0079 - val_loss: 0.0177\n",
      "Epoch 49/50\n",
      "137/137 [==============================] - 4s 28ms/step - loss: 0.0077 - val_loss: 0.0188\n",
      "Epoch 50/50\n",
      "137/137 [==============================] - 5s 33ms/step - loss: 0.0079 - val_loss: 0.0179\n"
     ]
    }
   ],
   "source": [
    "#transformer le size des donnees en 3D\n",
    "\n",
    "\n",
    "print(Xtest.shape[:])\n",
    "print(Xtrain.shape[:])\n",
    "\n",
    "model = Sequential()\n",
    "model.add(Bidirectional(LSTM(units = 16, input_shape=(Xtrain.shape[1], 1), return_sequences=True)))\n",
    "model.add(Dropout(0.2))\n",
    "model.add(Bidirectional(LSTM(units = 16)))\n",
    "model.add(Dropout(0.2))#drop out overfetting \n",
    "model.add(Dense(1, activation='tanh'))\n",
    "model.compile(optimizer = Adam(learning_rate=1e-3), loss = 'mse')\n",
    "\n",
    "\n",
    "model_train = model.fit(Xtrain, Ytrain, validation_split=0.2, epochs=50, batch_size=16, verbose=1)"
   ]
  },
  {
   "cell_type": "code",
   "execution_count": 324,
   "metadata": {
    "colab": {
     "base_uri": "https://localhost:8080/",
     "height": 350
    },
    "colab_type": "code",
    "executionInfo": {
     "elapsed": 4434,
     "status": "ok",
     "timestamp": 1561858099630,
     "user": {
      "displayName": "said boujerfaoui",
      "photoUrl": "https://lh3.googleusercontent.com/-oQRYciqKOe0/AAAAAAAAAAI/AAAAAAAAAAc/F2-r3EnsbcE/s64/photo.jpg",
      "userId": "03168714931645234698"
     },
     "user_tz": -60
    },
    "id": "Qy8waI0iZDgg",
    "outputId": "bd8aa2ee-79c8-4e91-c03c-29937f2d4dee"
   },
   "outputs": [
    {
     "data": {
      "image/png": "[encoded data removed]",
      "text/plain": [
       "<Figure size 2000x500 with 1 Axes>"
      ]
     },
     "metadata": {},
     "output_type": "display_data"
    }
   ],
   "source": [
    "def ploter_Erreur(hist):\n",
    "    f, axarr = plt.subplots(1,1, figsize=(20, 5))\n",
    "\n",
    "    plt.plot(hist.history['loss'])\n",
    "    plt.plot(hist.history['val_loss'])\n",
    "    axarr.set_title('Model loss')\n",
    "    axarr.set_ylabel('Loss')\n",
    "    axarr.set_xlabel('Epoch')\n",
    "    axarr.legend(['Entrainement', 'validation'], loc='upper left')\n",
    "    plt.show()\n",
    "    \n",
    "    \n",
    "ploter_Erreur(model_train)"
   ]
  },
  {
   "cell_type": "code",
   "execution_count": 325,
   "metadata": {},
   "outputs": [
    {
     "name": "stdout",
     "output_type": "stream",
     "text": [
      "29/29 [==============================] - 9s 16ms/step\n"
     ]
    },
    {
     "data": {
      "text/plain": [
       "0.028256001029448242"
      ]
     },
     "execution_count": 325,
     "metadata": {},
     "output_type": "execute_result"
    }
   ],
   "source": [
    "\n",
    "testPredict2=model.predict(Xtest)\n",
    "\n",
    "mean_squared_error(Ytest, testPredict2)\n"
   ]
  },
  {
   "cell_type": "code",
   "execution_count": 326,
   "metadata": {},
   "outputs": [
    {
     "data": {
      "text/plain": [
       "0.6527227551016834"
      ]
     },
     "execution_count": 326,
     "metadata": {},
     "output_type": "execute_result"
    }
   ],
   "source": [
    "from sklearn.metrics import  r2_score\n",
    "accurcy1 = r2_score(Ytest, testPredict2)\n",
    "accurcy1"
   ]
  },
  {
   "cell_type": "code",
   "execution_count": 327,
   "metadata": {},
   "outputs": [],
   "source": [
    "import tensorflow as tf\n",
    "from keras.layers import Layer\n",
    "import keras.backend as K\n",
    "\n",
    "class attention(Layer):\n",
    "    def __init__(self,**kwargs):\n",
    "        super(attention,self).__init__(**kwargs)\n",
    " \n",
    "    def build(self,input_shape):\n",
    "        self.W=self.add_weight(name='attention_weight', shape=(input_shape[-1],1), \n",
    "                               initializer='random_normal', trainable=True)\n",
    "        self.b=self.add_weight(name='attention_bias', shape=(input_shape[1],1), \n",
    "                               initializer='zeros', trainable=True)        \n",
    "        super(attention, self).build(input_shape)\n",
    " \n",
    "    def call(self,x):\n",
    "        # Alignment scores. Pass them through tanh function\n",
    "        e = K.tanh(K.dot(x,self.W)+self.b)\n",
    "        # Remove dimension of size 1\n",
    "        e = K.squeeze(e, axis=-1)   \n",
    "        # Compute the weights\n",
    "        alpha = K.softmax(e)\n",
    "        # Reshape to tensorFlow format\n",
    "        alpha = K.expand_dims(alpha, axis=-1)\n",
    "        # Compute the context vector\n",
    "        context = x * alpha\n",
    "        context = K.sum(context, axis=1)\n",
    "        return context\n"
   ]
  },
  {
   "cell_type": "code",
   "execution_count": 328,
   "metadata": {},
   "outputs": [
    {
     "name": "stdout",
     "output_type": "stream",
     "text": [
      "Epoch 1/100\n",
      "35/35 [==============================] - 22s 194ms/step - loss: 0.0249 - val_loss: 0.0325 - lr: 0.0010\n",
      "Epoch 2/100\n",
      "35/35 [==============================] - 5s 152ms/step - loss: 0.0127 - val_loss: 0.0239 - lr: 0.0010\n",
      "Epoch 3/100\n",
      "35/35 [==============================] - 4s 111ms/step - loss: 0.0100 - val_loss: 0.0262 - lr: 0.0010\n",
      "Epoch 4/100\n",
      "35/35 [==============================] - 4s 112ms/step - loss: 0.0099 - val_loss: 0.0252 - lr: 0.0010\n",
      "Epoch 5/100\n",
      "35/35 [==============================] - 4s 123ms/step - loss: 0.0102 - val_loss: 0.0205 - lr: 0.0010\n",
      "Epoch 6/100\n",
      "35/35 [==============================] - 4s 115ms/step - loss: 0.0097 - val_loss: 0.0210 - lr: 0.0010\n",
      "Epoch 7/100\n",
      "35/35 [==============================] - 5s 147ms/step - loss: 0.0090 - val_loss: 0.0196 - lr: 0.0010\n",
      "Epoch 8/100\n",
      "35/35 [==============================] - 4s 113ms/step - loss: 0.0092 - val_loss: 0.0211 - lr: 0.0010\n",
      "Epoch 9/100\n",
      "35/35 [==============================] - 5s 150ms/step - loss: 0.0087 - val_loss: 0.0184 - lr: 0.0010\n",
      "Epoch 10/100\n",
      "35/35 [==============================] - 4s 111ms/step - loss: 0.0087 - val_loss: 0.0187 - lr: 0.0010\n",
      "Epoch 11/100\n",
      "35/35 [==============================] - 4s 125ms/step - loss: 0.0085 - val_loss: 0.0191 - lr: 0.0010\n",
      "Epoch 12/100\n",
      "35/35 [==============================] - 9s 274ms/step - loss: 0.0091 - val_loss: 0.0187 - lr: 0.0010\n",
      "Epoch 13/100\n",
      "35/35 [==============================] - 5s 149ms/step - loss: 0.0081 - val_loss: 0.0185 - lr: 0.0010\n",
      "Epoch 14/100\n",
      "35/35 [==============================] - 5s 130ms/step - loss: 0.0086 - val_loss: 0.0185 - lr: 0.0010\n",
      "Epoch 15/100\n",
      "35/35 [==============================] - 5s 145ms/step - loss: 0.0080 - val_loss: 0.0184 - lr: 5.0000e-04\n",
      "Epoch 16/100\n",
      "35/35 [==============================] - 8s 236ms/step - loss: 0.0081 - val_loss: 0.0183 - lr: 5.0000e-04\n",
      "Epoch 17/100\n",
      "35/35 [==============================] - 4s 111ms/step - loss: 0.0084 - val_loss: 0.0197 - lr: 5.0000e-04\n",
      "Epoch 18/100\n",
      "35/35 [==============================] - 3s 90ms/step - loss: 0.0081 - val_loss: 0.0189 - lr: 5.0000e-04\n",
      "Epoch 19/100\n",
      "35/35 [==============================] - 3s 96ms/step - loss: 0.0084 - val_loss: 0.0180 - lr: 5.0000e-04\n",
      "Epoch 20/100\n",
      "35/35 [==============================] - 3s 81ms/step - loss: 0.0082 - val_loss: 0.0181 - lr: 5.0000e-04\n",
      "Epoch 21/100\n",
      "35/35 [==============================] - 3s 85ms/step - loss: 0.0082 - val_loss: 0.0203 - lr: 5.0000e-04\n",
      "Epoch 22/100\n",
      "35/35 [==============================] - 3s 82ms/step - loss: 0.0082 - val_loss: 0.0184 - lr: 5.0000e-04\n",
      "Epoch 23/100\n",
      "35/35 [==============================] - 3s 85ms/step - loss: 0.0079 - val_loss: 0.0181 - lr: 5.0000e-04\n",
      "Epoch 24/100\n",
      "35/35 [==============================] - 3s 81ms/step - loss: 0.0080 - val_loss: 0.0181 - lr: 5.0000e-04\n",
      "Epoch 25/100\n",
      "35/35 [==============================] - 3s 87ms/step - loss: 0.0078 - val_loss: 0.0182 - lr: 2.5000e-04\n",
      "Epoch 26/100\n",
      "35/35 [==============================] - 3s 81ms/step - loss: 0.0079 - val_loss: 0.0181 - lr: 2.5000e-04\n",
      "Epoch 27/100\n",
      "35/35 [==============================] - 3s 98ms/step - loss: 0.0078 - val_loss: 0.0179 - lr: 2.5000e-04\n",
      "Epoch 28/100\n",
      "35/35 [==============================] - 3s 83ms/step - loss: 0.0078 - val_loss: 0.0183 - lr: 2.5000e-04\n",
      "Epoch 29/100\n",
      "35/35 [==============================] - 3s 86ms/step - loss: 0.0078 - val_loss: 0.0183 - lr: 2.5000e-04\n",
      "Epoch 30/100\n",
      "35/35 [==============================] - 3s 81ms/step - loss: 0.0079 - val_loss: 0.0181 - lr: 1.2500e-04\n",
      "Epoch 31/100\n",
      "35/35 [==============================] - 5s 139ms/step - loss: 0.0078 - val_loss: 0.0183 - lr: 1.2500e-04\n",
      "Epoch 32/100\n",
      "35/35 [==============================] - 4s 108ms/step - loss: 0.0078 - val_loss: 0.0182 - lr: 1.2500e-04\n",
      "Epoch 33/100\n",
      "35/35 [==============================] - 3s 89ms/step - loss: 0.0077 - val_loss: 0.0182 - lr: 1.2500e-04\n",
      "Epoch 34/100\n",
      "35/35 [==============================] - 3s 80ms/step - loss: 0.0077 - val_loss: 0.0181 - lr: 1.2500e-04\n",
      "Epoch 35/100\n",
      "35/35 [==============================] - 3s 79ms/step - loss: 0.0077 - val_loss: 0.0182 - lr: 6.2500e-05\n",
      "Epoch 36/100\n",
      "35/35 [==============================] - 6s 160ms/step - loss: 0.0077 - val_loss: 0.0180 - lr: 6.2500e-05\n",
      "Epoch 37/100\n",
      "35/35 [==============================] - 3s 100ms/step - loss: 0.0078 - val_loss: 0.0181 - lr: 6.2500e-05\n"
     ]
    }
   ],
   "source": [
    "from keras.callbacks import EarlyStopping, ReduceLROnPlateau\n",
    "from keras.regularizers import l2\n",
    "# Define the model\n",
    "inputs = Input(shape=(Xtrain.shape[1], 1))\n",
    "lstm_out = Bidirectional(LSTM(units=200, return_sequences=True))(inputs)\n",
    "dropout_1 = Dropout(0.2)(lstm_out)\n",
    "attention_out = attention()(dropout_1)\n",
    "outputs = Dense(1, activation='linear')(attention_out)\n",
    "model2 = Model(inputs=inputs, outputs=outputs)\n",
    "model2.compile(optimizer=Adam(learning_rate=1e-3), loss='mse')\n",
    "\n",
    "# Callbacks for early stopping and learning rate reduction\n",
    "early_stopping = EarlyStopping(monitor='val_loss', patience=10, restore_best_weights=True)\n",
    "reduce_lr = ReduceLROnPlateau(monitor='val_loss', factor=0.5, patience=5, min_lr=1e-6)\n",
    "\n",
    "# Train the model\n",
    "model_train2 = model2.fit(Xtrain, Ytrain, validation_split=0.2, epochs=100,batch_size=64,callbacks=[early_stopping,reduce_lr],verbose=1)\n"
   ]
  },
  {
   "cell_type": "code",
   "execution_count": 307,
   "metadata": {},
   "outputs": [
    {
     "data": {
      "image/png": "[encoded data removed]",
      "text/plain": [
       "<Figure size 2000x500 with 1 Axes>"
      ]
     },
     "metadata": {},
     "output_type": "display_data"
    }
   ],
   "source": [
    "def ploter_Erreur(hist):\n",
    "    f, axarr = plt.subplots(1,1, figsize=(20, 5))\n",
    "\n",
    "    plt.plot(hist.history['loss'])\n",
    "    plt.plot(hist.history['val_loss'])\n",
    "    axarr.set_title('Model loss')\n",
    "    axarr.set_ylabel('Loss')\n",
    "    axarr.set_xlabel('Epoch')\n",
    "    axarr.legend(['Entrainement', 'validation'], loc='upper left')\n",
    "    plt.show()\n",
    "    \n",
    "    \n",
    "ploter_Erreur(model_train2)"
   ]
  },
  {
   "cell_type": "code",
   "execution_count": 308,
   "metadata": {},
   "outputs": [
    {
     "name": "stdout",
     "output_type": "stream",
     "text": [
      "29/29 [==============================] - 3s 34ms/step\n"
     ]
    },
    {
     "data": {
      "text/plain": [
       "0.025006051112414898"
      ]
     },
     "execution_count": 308,
     "metadata": {},
     "output_type": "execute_result"
    }
   ],
   "source": [
    "testPredict3=model2.predict(Xtest)\n",
    "\n",
    "mean_squared_error(Ytest, testPredict3)"
   ]
  },
  {
   "cell_type": "code",
   "execution_count": 309,
   "metadata": {},
   "outputs": [
    {
     "data": {
      "text/plain": [
       "0.6926659038886828"
      ]
     },
     "execution_count": 309,
     "metadata": {},
     "output_type": "execute_result"
    }
   ],
   "source": [
    "acurracy2 = r2_score(Ytest, testPredict3)\n",
    "acurracy2"
   ]
  },
  {
   "cell_type": "code",
   "execution_count": 288,
   "metadata": {},
   "outputs": [
    {
     "name": "stdout",
     "output_type": "stream",
     "text": [
      "86/86 [==============================] - 3s 39ms/step - loss: 0.0098\n",
      "29/29 [==============================] - 1s 24ms/step - loss: 0.0245\n",
      "86/86 [==============================] - 1s 11ms/step - loss: 0.0095\n",
      "29/29 [==============================] - 0s 12ms/step - loss: 0.0286\n",
      "Train set MSE with attention =  0.009818349033594131\n",
      "Test set MSE with attention =  0.024539945647120476\n",
      "Train set MSE =  0.009457699954509735\n",
      "Test set MSE  =  0.02858171984553337\n"
     ]
    }
   ],
   "source": [
    "train_mse_attn = model2.evaluate(Xtrain, Ytrain)\n",
    "test_mse_attn = model2.evaluate(Xtest ,Ytest)\n",
    "train_mse_attn1 = model.evaluate(Xtrain, Ytrain)\n",
    "test_mse_attn1= model.evaluate(Xtest ,Ytest)\n",
    " \n",
    "# Print error\n",
    "print(\"Train set MSE LASTM+attention = \", train_mse_attn)\n",
    "print(\"Test set MSE with LSTM+attention = \", test_mse_attn)\n",
    "print(\"Train set MSE LSTM = \", train_mse_attn1)\n",
    "print(\"Test set MSE  LSTM= \", test_mse_attn1)\n"
   ]
  },
  {
   "cell_type": "code",
   "execution_count": 330,
   "metadata": {},
   "outputs": [
    {
     "name": "stdout",
     "output_type": "stream",
     "text": [
      "accurcy de model lstm:  65.27227551016834\n",
      "accurcy de model lstm+attention:  69.26659038886828\n"
     ]
    }
   ],
   "source": [
    "print(\"accurcy de model lstm: \", accurcy1*100)\n",
    "print(\"accurcy de model lstm+attention: \", acurracy2*100)"
   ]
  },
  {
   "cell_type": "code",
   "execution_count": 329,
   "metadata": {},
   "outputs": [
    {
     "name": "stdout",
     "output_type": "stream",
     "text": [
      "86/86 [==============================] - 3s 31ms/step - loss: 0.0098\n",
      "29/29 [==============================] - 1s 30ms/step - loss: 0.0248\n",
      "86/86 [==============================] - 2s 23ms/step - loss: 0.0095\n",
      "29/29 [==============================] - 1s 17ms/step - loss: 0.0283\n",
      "Train set MSE LASTM+attention =  0.009820266626775265\n",
      "Test set MSE with LSTM+attention =  0.02479815110564232\n",
      "Train set MSE LSTM =  0.009490836411714554\n",
      "Test set MSE  LSTM=  0.028256002813577652\n"
     ]
    }
   ],
   "source": [
    "train_mse_attn = model2.evaluate(Xtrain, Ytrain)\n",
    "test_mse_attn = model2.evaluate(Xtest ,Ytest)\n",
    "train_mse_attn1 = model.evaluate(Xtrain, Ytrain)\n",
    "test_mse_attn1= model.evaluate(Xtest ,Ytest)\n",
    " \n",
    "# Print error\n",
    "print(\"Train set MSE LASTM+attention = \", train_mse_attn)\n",
    "print(\"Test set MSE with LSTM+attention = \", test_mse_attn)\n",
    "print(\"Train set MSE LSTM = \", train_mse_attn1)\n",
    "print(\"Test set MSE  LSTM= \", test_mse_attn1)\n"
   ]
  },
  {
   "cell_type": "code",
   "execution_count": null,
   "metadata": {},
   "outputs": [],
   "source": [
    "plt.figure(figsize=(20, 10))\n",
    "\n",
    "for year in data['Year'].unique():\n",
    "    if year == 2023 :\n",
    "        # output on black color:\n",
    "        plt.plot(data[data['Year'] == year]['Energy(MW)'].values, label=year, color='black')\n",
    "    else:\n",
    "        plt.plot(data[data['Year'] == year]['Energy(MW)'].values, label=year)\n",
    "\n",
    "plt.xlabel('Day')\n",
    "plt.ylabel('MW Energy Captured')\n",
    "plt.title('MW Energy Captured Over Multiple Years')\n",
    "plt.legend()"
   ]
  }
 ],
 "metadata": {
  "accelerator": "TPU",
  "colab": {
   "collapsed_sections": [],
   "name": "Copie de Copie de PraiseTheGoddamSun.ipynb",
   "provenance": [
    {
     "file_id": "1vhF8QzoJwqG8-byBQ-UWr7X6BrqCYUbZ",
     "timestamp": 1561858679382
    },
    {
     "file_id": "1R4s1dis-5oL2CLjXCdkheIcrZeo0zehv",
     "timestamp": 1559069318002
    },
    {
     "file_id": "1qr2nrtAn4gN0j495NFIJr5dz6W3tODRr",
     "timestamp": 1558959224863
    }
   ],
   "version": "0.3.2"
  },
  "kernelspec": {
   "display_name": "venv",
   "language": "python",
   "name": "python3"
  },
  "language_info": {
   "codemirror_mode": {
    "name": "ipython",
    "version": 3
   },
   "file_extension": ".py",
   "mimetype": "text/x-python",
   "name": "python",
   "nbconvert_exporter": "python",
   "pygments_lexer": "ipython3",
   "version": "3.9.0"
  }
 },
 "nbformat": 4,
 "nbformat_minor": 0
}
